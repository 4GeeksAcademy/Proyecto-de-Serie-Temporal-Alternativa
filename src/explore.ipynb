{
 "cells": [
  {
   "cell_type": "markdown",
   "metadata": {},
   "source": [
    "# Explore here"
   ]
  },
  {
   "cell_type": "code",
   "execution_count": 1,
   "metadata": {},
   "outputs": [],
   "source": [
    "import pandas as pd\n",
    "import numpy as np\n",
    "\n",
    "import matplotlib.pyplot as plt\n",
    "import seaborn as sns\n",
    "\n",
    "from statsmodels.tsa.seasonal import seasonal_decompose\n",
    "from statsmodels.tsa.stattools import adfuller\n",
    "from statsmodels.graphics.tsaplots import plot_acf\n",
    "\n",
    "from pmdarima import auto_arima"
   ]
  },
  {
   "cell_type": "code",
   "execution_count": 2,
   "metadata": {},
   "outputs": [
    {
     "data": {
      "text/html": [
       "<div>\n",
       "<style scoped>\n",
       "    .dataframe tbody tr th:only-of-type {\n",
       "        vertical-align: middle;\n",
       "    }\n",
       "\n",
       "    .dataframe tbody tr th {\n",
       "        vertical-align: top;\n",
       "    }\n",
       "\n",
       "    .dataframe thead th {\n",
       "        text-align: right;\n",
       "    }\n",
       "</style>\n",
       "<table border=\"1\" class=\"dataframe\">\n",
       "  <thead>\n",
       "    <tr style=\"text-align: right;\">\n",
       "      <th></th>\n",
       "      <th>date</th>\n",
       "      <th>sales</th>\n",
       "    </tr>\n",
       "  </thead>\n",
       "  <tbody>\n",
       "    <tr>\n",
       "      <th>0</th>\n",
       "      <td>2022-09-03 17:10:08.079328</td>\n",
       "      <td>55.292157</td>\n",
       "    </tr>\n",
       "    <tr>\n",
       "      <th>1</th>\n",
       "      <td>2022-09-04 17:10:08.079328</td>\n",
       "      <td>53.803211</td>\n",
       "    </tr>\n",
       "    <tr>\n",
       "      <th>2</th>\n",
       "      <td>2022-09-05 17:10:08.079328</td>\n",
       "      <td>58.141693</td>\n",
       "    </tr>\n",
       "    <tr>\n",
       "      <th>3</th>\n",
       "      <td>2022-09-06 17:10:08.079328</td>\n",
       "      <td>64.530899</td>\n",
       "    </tr>\n",
       "    <tr>\n",
       "      <th>4</th>\n",
       "      <td>2022-09-07 17:10:08.079328</td>\n",
       "      <td>66.013633</td>\n",
       "    </tr>\n",
       "  </tbody>\n",
       "</table>\n",
       "</div>"
      ],
      "text/plain": [
       "                         date      sales\n",
       "0  2022-09-03 17:10:08.079328  55.292157\n",
       "1  2022-09-04 17:10:08.079328  53.803211\n",
       "2  2022-09-05 17:10:08.079328  58.141693\n",
       "3  2022-09-06 17:10:08.079328  64.530899\n",
       "4  2022-09-07 17:10:08.079328  66.013633"
      ]
     },
     "execution_count": 2,
     "metadata": {},
     "output_type": "execute_result"
    }
   ],
   "source": [
    "url = \"https://raw.githubusercontent.com/4GeeksAcademy/alternative-time-series-project/main/sales.csv\"\n",
    "total_data = pd.read_csv(url)\n",
    "total_data.head()"
   ]
  },
  {
   "cell_type": "code",
   "execution_count": 3,
   "metadata": {},
   "outputs": [],
   "source": [
    "total_data['date'] = pd.to_datetime(total_data['date'])"
   ]
  },
  {
   "cell_type": "code",
   "execution_count": 4,
   "metadata": {},
   "outputs": [
    {
     "data": {
      "text/html": [
       "<div>\n",
       "<style scoped>\n",
       "    .dataframe tbody tr th:only-of-type {\n",
       "        vertical-align: middle;\n",
       "    }\n",
       "\n",
       "    .dataframe tbody tr th {\n",
       "        vertical-align: top;\n",
       "    }\n",
       "\n",
       "    .dataframe thead th {\n",
       "        text-align: right;\n",
       "    }\n",
       "</style>\n",
       "<table border=\"1\" class=\"dataframe\">\n",
       "  <thead>\n",
       "    <tr style=\"text-align: right;\">\n",
       "      <th></th>\n",
       "      <th>date</th>\n",
       "      <th>sales</th>\n",
       "    </tr>\n",
       "  </thead>\n",
       "  <tbody>\n",
       "    <tr>\n",
       "      <th>0</th>\n",
       "      <td>2022-09-03 17:10:08.079328</td>\n",
       "      <td>55.292157</td>\n",
       "    </tr>\n",
       "    <tr>\n",
       "      <th>1</th>\n",
       "      <td>2022-09-04 17:10:08.079328</td>\n",
       "      <td>53.803211</td>\n",
       "    </tr>\n",
       "    <tr>\n",
       "      <th>2</th>\n",
       "      <td>2022-09-05 17:10:08.079328</td>\n",
       "      <td>58.141693</td>\n",
       "    </tr>\n",
       "    <tr>\n",
       "      <th>3</th>\n",
       "      <td>2022-09-06 17:10:08.079328</td>\n",
       "      <td>64.530899</td>\n",
       "    </tr>\n",
       "    <tr>\n",
       "      <th>4</th>\n",
       "      <td>2022-09-07 17:10:08.079328</td>\n",
       "      <td>66.013633</td>\n",
       "    </tr>\n",
       "  </tbody>\n",
       "</table>\n",
       "</div>"
      ],
      "text/plain": [
       "                        date      sales\n",
       "0 2022-09-03 17:10:08.079328  55.292157\n",
       "1 2022-09-04 17:10:08.079328  53.803211\n",
       "2 2022-09-05 17:10:08.079328  58.141693\n",
       "3 2022-09-06 17:10:08.079328  64.530899\n",
       "4 2022-09-07 17:10:08.079328  66.013633"
      ]
     },
     "execution_count": 4,
     "metadata": {},
     "output_type": "execute_result"
    }
   ],
   "source": [
    "total_data.head()"
   ]
  },
  {
   "cell_type": "code",
   "execution_count": 5,
   "metadata": {},
   "outputs": [
    {
     "name": "stdout",
     "output_type": "stream",
     "text": [
      "                        date      sales  year  month  day\n",
      "0 2022-09-03 17:10:08.079328  55.292157  2022      9    3\n",
      "1 2022-09-04 17:10:08.079328  53.803211  2022      9    4\n",
      "2 2022-09-05 17:10:08.079328  58.141693  2022      9    5\n",
      "3 2022-09-06 17:10:08.079328  64.530899  2022      9    6\n",
      "4 2022-09-07 17:10:08.079328  66.013633  2022      9    7\n"
     ]
    }
   ],
   "source": [
    "total_data['year'] = total_data['date'].dt.year  # Año\n",
    "total_data['month'] = total_data['date'].dt.month  # Mes\n",
    "total_data['day'] = total_data['date'].dt.day  # Día\n",
    "\n",
    "# Mostrar las primeras filas para verificar\n",
    "print(total_data.head())"
   ]
  },
  {
   "cell_type": "code",
   "execution_count": 6,
   "metadata": {},
   "outputs": [
    {
     "data": {
      "text/html": [
       "<div>\n",
       "<style scoped>\n",
       "    .dataframe tbody tr th:only-of-type {\n",
       "        vertical-align: middle;\n",
       "    }\n",
       "\n",
       "    .dataframe tbody tr th {\n",
       "        vertical-align: top;\n",
       "    }\n",
       "\n",
       "    .dataframe thead th {\n",
       "        text-align: right;\n",
       "    }\n",
       "</style>\n",
       "<table border=\"1\" class=\"dataframe\">\n",
       "  <thead>\n",
       "    <tr style=\"text-align: right;\">\n",
       "      <th></th>\n",
       "      <th>date</th>\n",
       "      <th>sales</th>\n",
       "      <th>year</th>\n",
       "      <th>month</th>\n",
       "      <th>day</th>\n",
       "    </tr>\n",
       "  </thead>\n",
       "  <tbody>\n",
       "    <tr>\n",
       "      <th>0</th>\n",
       "      <td>NaT</td>\n",
       "      <td>NaN</td>\n",
       "      <td>NaN</td>\n",
       "      <td>NaN</td>\n",
       "      <td>NaN</td>\n",
       "    </tr>\n",
       "    <tr>\n",
       "      <th>1</th>\n",
       "      <td>1 days</td>\n",
       "      <td>-1.488946</td>\n",
       "      <td>0.0</td>\n",
       "      <td>0.0</td>\n",
       "      <td>1.0</td>\n",
       "    </tr>\n",
       "    <tr>\n",
       "      <th>2</th>\n",
       "      <td>1 days</td>\n",
       "      <td>4.338482</td>\n",
       "      <td>0.0</td>\n",
       "      <td>0.0</td>\n",
       "      <td>1.0</td>\n",
       "    </tr>\n",
       "    <tr>\n",
       "      <th>3</th>\n",
       "      <td>1 days</td>\n",
       "      <td>6.389205</td>\n",
       "      <td>0.0</td>\n",
       "      <td>0.0</td>\n",
       "      <td>1.0</td>\n",
       "    </tr>\n",
       "    <tr>\n",
       "      <th>4</th>\n",
       "      <td>1 days</td>\n",
       "      <td>1.482734</td>\n",
       "      <td>0.0</td>\n",
       "      <td>0.0</td>\n",
       "      <td>1.0</td>\n",
       "    </tr>\n",
       "    <tr>\n",
       "      <th>...</th>\n",
       "      <td>...</td>\n",
       "      <td>...</td>\n",
       "      <td>...</td>\n",
       "      <td>...</td>\n",
       "      <td>...</td>\n",
       "    </tr>\n",
       "    <tr>\n",
       "      <th>361</th>\n",
       "      <td>1 days</td>\n",
       "      <td>0.518681</td>\n",
       "      <td>0.0</td>\n",
       "      <td>0.0</td>\n",
       "      <td>1.0</td>\n",
       "    </tr>\n",
       "    <tr>\n",
       "      <th>362</th>\n",
       "      <td>1 days</td>\n",
       "      <td>5.386972</td>\n",
       "      <td>0.0</td>\n",
       "      <td>0.0</td>\n",
       "      <td>1.0</td>\n",
       "    </tr>\n",
       "    <tr>\n",
       "      <th>363</th>\n",
       "      <td>1 days</td>\n",
       "      <td>0.827090</td>\n",
       "      <td>0.0</td>\n",
       "      <td>1.0</td>\n",
       "      <td>-30.0</td>\n",
       "    </tr>\n",
       "    <tr>\n",
       "      <th>364</th>\n",
       "      <td>1 days</td>\n",
       "      <td>1.535798</td>\n",
       "      <td>0.0</td>\n",
       "      <td>0.0</td>\n",
       "      <td>1.0</td>\n",
       "    </tr>\n",
       "    <tr>\n",
       "      <th>365</th>\n",
       "      <td>1 days</td>\n",
       "      <td>3.132571</td>\n",
       "      <td>0.0</td>\n",
       "      <td>0.0</td>\n",
       "      <td>1.0</td>\n",
       "    </tr>\n",
       "  </tbody>\n",
       "</table>\n",
       "<p>366 rows × 5 columns</p>\n",
       "</div>"
      ],
      "text/plain": [
       "      date     sales  year  month   day\n",
       "0      NaT       NaN   NaN    NaN   NaN\n",
       "1   1 days -1.488946   0.0    0.0   1.0\n",
       "2   1 days  4.338482   0.0    0.0   1.0\n",
       "3   1 days  6.389205   0.0    0.0   1.0\n",
       "4   1 days  1.482734   0.0    0.0   1.0\n",
       "..     ...       ...   ...    ...   ...\n",
       "361 1 days  0.518681   0.0    0.0   1.0\n",
       "362 1 days  5.386972   0.0    0.0   1.0\n",
       "363 1 days  0.827090   0.0    1.0 -30.0\n",
       "364 1 days  1.535798   0.0    0.0   1.0\n",
       "365 1 days  3.132571   0.0    0.0   1.0\n",
       "\n",
       "[366 rows x 5 columns]"
      ]
     },
     "execution_count": 6,
     "metadata": {},
     "output_type": "execute_result"
    }
   ],
   "source": [
    "#pd.set_option('display.max_rows', None) #Mostrar todas las filas\n",
    "\n",
    "total_data.diff()"
   ]
  },
  {
   "cell_type": "code",
   "execution_count": 7,
   "metadata": {},
   "outputs": [
    {
     "name": "stdout",
     "output_type": "stream",
     "text": [
      "                sales  year  month  day\n",
      "date                                   \n",
      "2022-09-03  55.292157  2022      9    3\n",
      "2022-09-04  53.803211  2022      9    4\n",
      "2022-09-05  58.141693  2022      9    5\n",
      "2022-09-06  64.530899  2022      9    6\n",
      "2022-09-07  66.013633  2022      9    7\n"
     ]
    }
   ],
   "source": [
    "\n",
    "total_data['date'] = total_data['date'].dt.date  # Extraer solo la fecha (AAAA-MM-DD) de la columna 'date'\n",
    "total_data = total_data.set_index('date') # Establecer la columna 'date' como índice\n",
    "\n",
    "print(total_data.head())\n"
   ]
  },
  {
   "cell_type": "markdown",
   "metadata": {},
   "source": [
    "#### - ¿Cuál es el tensor de la serie temporal?  \n",
    "El tensor es la unidad mínima de tiempo para la que hay datos (día, semana, mes, etc.). En este caso hablaríamos de un día, excepto en la fila 363 en la cual hay un salto de 30 días. Un mes."
   ]
  },
  {
   "cell_type": "markdown",
   "metadata": {},
   "source": [
    "#### - ¿Cuál es la tendencia?"
   ]
  },
  {
   "cell_type": "markdown",
   "metadata": {},
   "source": [
    "La tendencia es claramente creciente constante"
   ]
  },
  {
   "cell_type": "code",
   "execution_count": 8,
   "metadata": {},
   "outputs": [
    {
     "data": {
      "image/png": "[encoded data removed]",
      "text/plain": [
       "<Figure size 1000x500 with 1 Axes>"
      ]
     },
     "metadata": {},
     "output_type": "display_data"
    }
   ],
   "source": [
    "fig, axis = plt.subplots(figsize = (10, 5))\n",
    "\n",
    "sns.lineplot(data = total_data)\n",
    "\n",
    "plt.tight_layout()\n",
    "\n",
    "plt.show()"
   ]
  },
  {
   "cell_type": "markdown",
   "metadata": {},
   "source": [
    "#### - ¿Es estacionaria?"
   ]
  },
  {
   "cell_type": "code",
   "execution_count": null,
   "metadata": {},
   "outputs": [
    {
     "data": {
      "text/plain": [
       "{'ADF Statistic': 0.545414193706378,\n",
       " 'p-value': 0.9861899815311064,\n",
       " 'Critical Values': {'1%': -3.4490648539347544,\n",
       "  '5%': -2.8697861692116478,\n",
       "  '10%': -2.5711631253228306}}"
      ]
     },
     "execution_count": 9,
     "metadata": {},
     "output_type": "execute_result"
    }
   ],
   "source": [
    "#from statsmodels.tsa.stattools import adfuller\n",
    "\n",
    "# Prueba de Dickey-Fuller aumentada (ADF)\n",
    "adf_result = adfuller(total_data['sales'])\n",
    "\n",
    "# Extraer los resultados clave\n",
    "adf_statistic = adf_result[0]\n",
    "p_value = adf_result[1]\n",
    "critical_values = adf_result[4]\n",
    "\n",
    "# Mostrar resultados\n",
    "{\n",
    "    \"ADF Statistic\": adf_statistic,\n",
    "    \"p-value\": p_value,\n",
    "    \"Critical Values\": critical_values\n",
    "}\n"
   ]
  },
  {
   "cell_type": "code",
   "execution_count": null,
   "metadata": {},
   "outputs": [],
   "source": [
    "# seasonal_decompose en 7  si el p vlue es alto buscar la diferencia - variación?? el mismo test de alreves? HACER EL MODELO Y PREDICCION CON TODO EL CONJUNTO DE DATOS - hacer una predicción con menos dias Diana pone 100 después de hacerlo con el completo - luego comparar visualmente con la realidad\n",
    "# dividir en varios meses?\n",
    "# ¿data subset :100]? qué es el diferencial ??? - cambiar a menos días . - no pasar menos de una cuarta parte - "
   ]
  },
  {
   "cell_type": "markdown",
   "metadata": {},
   "source": [
    "¿Variavilidad? \n",
    "\n",
    "No importante"
   ]
  }
 ],
 "metadata": {
  "kernelspec": {
   "display_name": "Python 3.8.13 64-bit ('3.8.13')",
   "language": "python",
   "name": "python3"
  },
  "language_info": {
   "codemirror_mode": {
    "name": "ipython",
    "version": 3
   },
   "file_extension": ".py",
   "mimetype": "text/x-python",
   "name": "python",
   "nbconvert_exporter": "python",
   "pygments_lexer": "ipython3",
   "version": "3.8.13"
  },
  "orig_nbformat": 4,
  "vscode": {
   "interpreter": {
    "hash": "110cc1dee26208153f2972f08a2ad52b6a56238dc66d48e87fb757ef2996db56"
   }
  }
 },
 "nbformat": 4,
 "nbformat_minor": 2
}
